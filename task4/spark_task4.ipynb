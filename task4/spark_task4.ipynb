{
 "cells": [
  {
   "cell_type": "code",
   "execution_count": 2,
   "id": "a23ae18f",
   "metadata": {},
   "outputs": [],
   "source": [
    "#importing libraries\n",
    "import pyspark\n",
    "import os\n",
    "from pyspark.sql import SparkSession\n",
    "from pyspark.sql import functions\n",
    "from pyspark.sql import Window\n",
    "from pyspark.sql.functions import col"
   ]
  },
  {
   "cell_type": "code",
   "execution_count": 3,
   "id": "8140fb43",
   "metadata": {},
   "outputs": [
    {
     "data": {
      "text/plain": [
       "'C:\\\\Spark\\\\spark'"
      ]
     },
     "execution_count": 3,
     "metadata": {},
     "output_type": "execute_result"
    }
   ],
   "source": [
    "#check env variable\n",
    "os.environ['SPARK_HOME']"
   ]
  },
  {
   "cell_type": "code",
   "execution_count": 4,
   "id": "f0e00ed6",
   "metadata": {},
   "outputs": [],
   "source": [
    "#Create a spark session\n",
    "spark = SparkSession \\\n",
    "    .builder \\\n",
    "    .appName(\"Task4\") \\\n",
    "    .config(\"spark.jars\", \"postgresql-42.4.0.jar\") \\\n",
    "    .getOrCreate()"
   ]
  },
  {
   "cell_type": "code",
   "execution_count": 5,
   "id": "69b7c0c8",
   "metadata": {},
   "outputs": [
    {
     "data": {
      "text/html": [
       "\n",
       "            <div>\n",
       "                <p><b>SparkSession - in-memory</b></p>\n",
       "                \n",
       "        <div>\n",
       "            <p><b>SparkContext</b></p>\n",
       "\n",
       "            <p><a href=\"http://DESKTOP-BPSHVL5:4040\">Spark UI</a></p>\n",
       "\n",
       "            <dl>\n",
       "              <dt>Version</dt>\n",
       "                <dd><code>v3.3.0</code></dd>\n",
       "              <dt>Master</dt>\n",
       "                <dd><code>local[*]</code></dd>\n",
       "              <dt>AppName</dt>\n",
       "                <dd><code>Task4</code></dd>\n",
       "            </dl>\n",
       "        </div>\n",
       "        \n",
       "            </div>\n",
       "        "
      ],
      "text/plain": [
       "<pyspark.sql.session.SparkSession at 0x11468f640a0>"
      ]
     },
     "execution_count": 5,
     "metadata": {},
     "output_type": "execute_result"
    }
   ],
   "source": [
    "spark"
   ]
  },
  {
   "cell_type": "code",
   "execution_count": 6,
   "id": "f5be3bff",
   "metadata": {},
   "outputs": [],
   "source": [
    "#Get all table names available in db\n",
    "all_tables = spark.read.format(\"jdbc\"). \\\n",
    "options(\n",
    "         url='jdbc:postgresql://localhost:5432/Test', # jdbc:postgresql://<host>:<port>/<database>\n",
    "         dbtable = 'information_schema.tables',\n",
    "         user='user_1',\n",
    "         password='password').\\\n",
    "load()"
   ]
  },
  {
   "cell_type": "code",
   "execution_count": 7,
   "id": "4522a748",
   "metadata": {},
   "outputs": [],
   "source": [
    "#Filtering table_names\n",
    "df_names = all_tables.select('table_name').filter((all_tables.table_schema == 'public')&(all_tables.table_type == 'BASE TABLE'))\n",
    "table_names = [data[0] for data in df_names.select('table_name').collect()]"
   ]
  },
  {
   "cell_type": "code",
   "execution_count": 8,
   "id": "e96e059a",
   "metadata": {},
   "outputs": [
    {
     "data": {
      "text/plain": [
       "['athletes',\n",
       " 'routes',\n",
       " 'payment_p2022_07',\n",
       " 'payment',\n",
       " 'film',\n",
       " 'actor',\n",
       " 'address',\n",
       " 'category',\n",
       " 'city',\n",
       " 'country',\n",
       " 'customer',\n",
       " 'film_actor',\n",
       " 'film_category',\n",
       " 'inventory',\n",
       " 'language',\n",
       " 'rental',\n",
       " 'staff',\n",
       " 'store',\n",
       " 'payment_p2022_01',\n",
       " 'payment_p2022_02',\n",
       " 'payment_p2022_03',\n",
       " 'payment_p2022_04',\n",
       " 'payment_p2022_05',\n",
       " 'payment_p2022_06']"
      ]
     },
     "execution_count": 8,
     "metadata": {},
     "output_type": "execute_result"
    }
   ],
   "source": [
    "table_names"
   ]
  },
  {
   "cell_type": "code",
   "execution_count": 9,
   "id": "afee41aa",
   "metadata": {},
   "outputs": [],
   "source": [
    "#Function for creating a pyspark DataFrame; As well as seeing if it was done successfully\n",
    "def create_table(name):\n",
    "    try:\n",
    "        result = spark.read.format(\"jdbc\"). \\\n",
    "        options(\n",
    "                 url='jdbc:postgresql://localhost:5432/Test', # jdbc:postgresql://<host>:<port>/<database>\n",
    "                 dbtable = name,\n",
    "                 user='user_1',\n",
    "                 password='password').\\\n",
    "        load()\n",
    "        print(f\"Table '{name}' loaded\")\n",
    "        return result\n",
    "    except Exception:\n",
    "        return f'Error table [{name}] not loaded'"
   ]
  },
  {
   "cell_type": "code",
   "execution_count": 10,
   "id": "e7bc962e",
   "metadata": {},
   "outputs": [
    {
     "name": "stdout",
     "output_type": "stream",
     "text": [
      "Table 'athletes' loaded\n",
      "Table 'routes' loaded\n",
      "Table 'payment_p2022_07' loaded\n",
      "Table 'payment' loaded\n",
      "Table 'film' loaded\n",
      "Table 'actor' loaded\n",
      "Table 'address' loaded\n",
      "Table 'category' loaded\n",
      "Table 'city' loaded\n",
      "Table 'country' loaded\n",
      "Table 'customer' loaded\n",
      "Table 'film_actor' loaded\n",
      "Table 'film_category' loaded\n",
      "Table 'inventory' loaded\n",
      "Table 'language' loaded\n",
      "Table 'rental' loaded\n",
      "Table 'staff' loaded\n",
      "Table 'store' loaded\n",
      "Table 'payment_p2022_01' loaded\n",
      "Table 'payment_p2022_02' loaded\n",
      "Table 'payment_p2022_03' loaded\n",
      "Table 'payment_p2022_04' loaded\n",
      "Table 'payment_p2022_05' loaded\n",
      "Table 'payment_p2022_06' loaded\n"
     ]
    }
   ],
   "source": [
    "#Creating pyspark DataFrame using all fetched table_names\n",
    "for t in table_names:\n",
    "    value = create_table(t)\n",
    "    globals()[f\"{t}\"] = value"
   ]
  },
  {
   "cell_type": "markdown",
   "id": "70bb0709",
   "metadata": {},
   "source": [
    "<div class=\"alert alert-block alert-info\">\n",
    "<b>&#9658</b> #Q1 Вывести количество фильмов в каждой категории, отсортировать по убыванию.</div>"
   ]
  },
  {
   "cell_type": "code",
   "execution_count": 11,
   "id": "d13a9cd6",
   "metadata": {},
   "outputs": [
    {
     "name": "stdout",
     "output_type": "stream",
     "text": [
      "+-----------+-----+\n",
      "|       name|count|\n",
      "+-----------+-----+\n",
      "|     Sports|   74|\n",
      "|    Foreign|   73|\n",
      "|     Family|   69|\n",
      "|Documentary|   68|\n",
      "|  Animation|   66|\n",
      "|     Action|   64|\n",
      "|        New|   63|\n",
      "|      Drama|   62|\n",
      "|      Games|   61|\n",
      "|     Sci-Fi|   61|\n",
      "|   Children|   60|\n",
      "|     Comedy|   58|\n",
      "|     Travel|   57|\n",
      "|   Classics|   57|\n",
      "|     Horror|   56|\n",
      "|      Music|   51|\n",
      "+-----------+-----+\n",
      "\n"
     ]
    }
   ],
   "source": [
    "joined = film_category.join(film, film_category.film_id == film.film_id)\\\n",
    ".join(category, film_category.category_id == category.category_id)\\\n",
    ".select([film[\"film_id\"],\"title\", category[\"category_id\"], category[\"name\"]])\n",
    "\n",
    "joined.groupBy('name').count().orderBy('count', ascending = False).show()"
   ]
  },
  {
   "cell_type": "markdown",
   "id": "4420e37f",
   "metadata": {},
   "source": [
    "<div class=\"alert alert-block alert-info\">\n",
    "<b>&#9658</b> #Q2 Вывести 10 актеров, чьи фильмы большего всего арендовали, отсортировать по убыванию.</div>"
   ]
  },
  {
   "cell_type": "code",
   "execution_count": 12,
   "id": "a41520e6",
   "metadata": {},
   "outputs": [
    {
     "name": "stdout",
     "output_type": "stream",
     "text": [
      "+--------+--------------------+----------+---------+\n",
      "|actor_id|sum(rental_duration)|first_name|last_name|\n",
      "+--------+--------------------+----------+---------+\n",
      "|     107|                 209|      GINA|DEGENERES|\n",
      "|     102|                 201|    WALTER|     TORN|\n",
      "|     198|                 192|      MARY|   KEITEL|\n",
      "|     181|                 190|   MATTHEW|   CARREY|\n",
      "|      65|                 183|    ANGELA|   HUDSON|\n",
      "|     106|                 183|   GROUCHO|    DUNST|\n",
      "|      23|                 181|    SANDRA|   KILMER|\n",
      "|      60|                 180|     HENRY|    BERRY|\n",
      "|      13|                 179|       UMA|     WOOD|\n",
      "|     119|                 178|    WARREN|  JACKMAN|\n",
      "+--------+--------------------+----------+---------+\n",
      "only showing top 10 rows\n",
      "\n"
     ]
    }
   ],
   "source": [
    "joined = film.join(film_actor, film['film_id'] == film_actor['film_id'])\n",
    "joined.select([film['film_id'], film_actor[\"actor_id\"], \"rental_duration\"])\n",
    "\n",
    "df = joined.groupBy(film_actor[\"actor_id\"]).sum(\"rental_duration\").orderBy(\"sum(rental_duration)\", ascending=False)\n",
    "df.join(actor, df['actor_id'] == actor['actor_id']).\\\n",
    "select(actor['actor_id'], 'sum(rental_duration)', 'first_name', 'last_name').\\\n",
    "orderBy(\"sum(rental_duration)\", ascending=False).show(10)"
   ]
  },
  {
   "cell_type": "markdown",
   "id": "df6abd16",
   "metadata": {},
   "source": [
    "<div class=\"alert alert-block alert-info\">\n",
    "<b>&#9658</b> #Q3 Вывести категорию фильмов, на которую потратили больше всего денег.</div>"
   ]
  },
  {
   "cell_type": "code",
   "execution_count": 13,
   "id": "8ebe7711",
   "metadata": {},
   "outputs": [
    {
     "name": "stdout",
     "output_type": "stream",
     "text": [
      "+------+----------------+\n",
      "|  name|sum(total_costs)|\n",
      "+------+----------------+\n",
      "|Sports|         2640.77|\n",
      "+------+----------------+\n",
      "only showing top 1 row\n",
      "\n"
     ]
    }
   ],
   "source": [
    "joined = film.join(film_category, film['film_id'] == film_category['film_id'])\\\n",
    ".join(category, film_category['category_id'] == category['category_id'])\n",
    "\n",
    "df = joined.withColumn(\"total_costs\", joined.rental_rate * joined.rental_duration + joined.replacement_cost)\n",
    "\n",
    "df.groupBy(\"name\").sum(\"total_costs\").orderBy(\"sum(total_costs)\", ascending = False).show(1)"
   ]
  },
  {
   "cell_type": "markdown",
   "id": "6484f395",
   "metadata": {},
   "source": [
    "<div class=\"alert alert-block alert-info\">\n",
    "<b>&#9658</b> #Q4 Вывести названия фильмов, которых нет в inventory.</div>"
   ]
  },
  {
   "cell_type": "code",
   "execution_count": 14,
   "id": "c7dd5bda",
   "metadata": {},
   "outputs": [
    {
     "name": "stdout",
     "output_type": "stream",
     "text": [
      "+-------+--------------------+\n",
      "|film_id|               title|\n",
      "+-------+--------------------+\n",
      "|     14|      ALICE FANTASIA|\n",
      "|     33|         APOLLO TEEN|\n",
      "|     36|      ARGONAUTS TOWN|\n",
      "|     38|       ARK RIDGEMONT|\n",
      "|     41|ARSENIC INDEPENDENCE|\n",
      "|     87|   BOONDOCK BALLROOM|\n",
      "|    108|       BUTCH PANTHER|\n",
      "|    128|       CATCH AMISTAD|\n",
      "|    144| CHINATOWN GLADIATOR|\n",
      "|    148|      CHOCOLATE DUCK|\n",
      "|    171|COMMANDMENTS EXPRESS|\n",
      "|    192|    CROSSING DIVORCE|\n",
      "|    195|     CROWDS TELEMARK|\n",
      "|    198|    CRYSTAL BREAKING|\n",
      "|    217|          DAZED PUNK|\n",
      "|    221|DELIVERANCE MULHO...|\n",
      "|    318|   FIREHOUSE VIETNAM|\n",
      "|    325|       FLOATS GARDEN|\n",
      "|    332|FRANKENSTEIN STRA...|\n",
      "|    359|  GLADIATOR WESTWARD|\n",
      "|    386|           GUMP DATE|\n",
      "|    404|       HATE HANDICAP|\n",
      "|    419|         HOCUS FRIDA|\n",
      "|    495|    KENTUCKIAN GIANT|\n",
      "|    497|    KILL BROTHERHOOD|\n",
      "|    607|         MUPPET MILE|\n",
      "|    642|      ORDER BETRAYED|\n",
      "|    669|       PEARL DESTINY|\n",
      "|    671|     PERDITION FARGO|\n",
      "|    701|       PSYCHO SHRUNK|\n",
      "|    712|   RAIDERS ANTITRUST|\n",
      "|    713|       RAINBOW SHOCK|\n",
      "|    742|       ROOF CHAMPION|\n",
      "|    801|       SISTER FREDDY|\n",
      "|    802|         SKY MIRACLE|\n",
      "|    860|    SUICIDES SILENCE|\n",
      "|    874|        TADPOLE PARK|\n",
      "|    909|    TREASURE COMMAND|\n",
      "|    943|   VILLAIN DESPERATE|\n",
      "|    950|        VOLUME HOUSE|\n",
      "|    954|           WAKE JAWS|\n",
      "|    955|        WALLS ARTIST|\n",
      "+-------+--------------------+\n",
      "\n"
     ]
    }
   ],
   "source": [
    "film.join(inventory, film['film_id'] == inventory['film_id'], 'left_anti').\\\n",
    "select(film['film_id'], film['title']).orderBy('film_id').show(film.count())"
   ]
  },
  {
   "cell_type": "markdown",
   "id": "415802bf",
   "metadata": {},
   "source": [
    "<div class=\"alert alert-block alert-info\">\n",
    "<b>&#9658</b> Q5 Вывести топ 3 актеров, которые больше всего появлялись в фильмах в категории “Children”. Если у нескольких актеров одинаковое кол-во фильмов, вывести всех.</div>"
   ]
  },
  {
   "cell_type": "code",
   "execution_count": 20,
   "id": "be8bd699",
   "metadata": {},
   "outputs": [],
   "source": [
    "joined = film_category.join(film_actor, film_category['film_id'] == film_actor['film_id']).\\\n",
    "join(category, film_category['category_id'] == category['category_id']).\\\n",
    "where(category['name'] == 'Children').select(film_category[\"film_id\"], \"name\", \"actor_id\")\n",
    "\n",
    "df = joined.groupBy('actor_id').count()\n",
    "window = Window.partitionBy().orderBy(functions.desc('count'))\n",
    "df = df.withColumn('rank', functions.dense_rank().over(window))"
   ]
  },
  {
   "cell_type": "code",
   "execution_count": 21,
   "id": "f057dde1",
   "metadata": {},
   "outputs": [
    {
     "name": "stdout",
     "output_type": "stream",
     "text": [
      "+--------+----------+---------+-----+----+\n",
      "|actor_id|first_name|last_name|count|rank|\n",
      "+--------+----------+---------+-----+----+\n",
      "|      17|     HELEN|   VOIGHT|    7|   1|\n",
      "|      66|      MARY|    TANDY|    5|   2|\n",
      "|     127|     KEVIN|  GARLAND|    5|   2|\n",
      "|     140|    WHOOPI|     HURT|    5|   2|\n",
      "|      80|     RALPH|     CRUZ|    5|   2|\n",
      "|     101|     SUSAN|    DAVIS|    4|   3|\n",
      "|      93|     ELLEN|  PRESLEY|    4|   3|\n",
      "|      81|  SCARLETT|    DAMON|    4|   3|\n",
      "|      13|       UMA|     WOOD|    4|   3|\n",
      "|     142|      JADA|    RYDER|    4|   3|\n",
      "|      37|       VAL|   BOLGER|    4|   3|\n",
      "|      23|    SANDRA|   KILMER|    4|   3|\n",
      "|      58| CHRISTIAN|   AKROYD|    4|   3|\n",
      "|     131|      JANE|  JACKMAN|    4|   3|\n",
      "|      92|   KIRSTEN|   AKROYD|    4|   3|\n",
      "|     173|      ALAN| DREYFUSS|    4|   3|\n",
      "|     109| SYLVESTER|     DERN|    4|   3|\n",
      "|     150|     JAYNE|    NOLTE|    4|   3|\n",
      "|     187|     RENEE|     BALL|    4|   3|\n",
      "+--------+----------+---------+-----+----+\n",
      "\n"
     ]
    }
   ],
   "source": [
    "df = df.withColumn('rank', functions.dense_rank().over(window))\n",
    "df = df.join(actor, df['actor_id'] == actor['actor_id'])\n",
    "df.where(df['rank'] <= 3).select(actor['actor_id'], 'first_name', 'last_name', 'count', 'rank').orderBy('rank').show(df.count())"
   ]
  },
  {
   "cell_type": "markdown",
   "id": "9febdc23",
   "metadata": {},
   "source": [
    "<div class=\"alert alert-block alert-info\">\n",
    "<b>&#9658</b> #Q6 Вывести города с количеством активных и неактивных клиентов (активный — customer.active = 1). Отсортировать по количеству неактивных клиентов по убыванию.</div>"
   ]
  },
  {
   "cell_type": "code",
   "execution_count": 22,
   "id": "9d21f19c",
   "metadata": {},
   "outputs": [],
   "source": [
    "joined = customer.join(address, customer['address_id'] == address['address_id']).\\\n",
    "join(city, address['city_id'] == city['city_id'])"
   ]
  },
  {
   "cell_type": "code",
   "execution_count": 23,
   "id": "34a4c3c3",
   "metadata": {},
   "outputs": [
    {
     "name": "stdout",
     "output_type": "stream",
     "text": [
      "+-----------+-------+----------+------+----------+\n",
      "|customer_id|city_id|      city|active|non_active|\n",
      "+-----------+-------+----------+------+----------+\n",
      "|        144|    340| Molodetno|     1|         0|\n",
      "|        458|    532|     Tegal|     1|         0|\n",
      "|        466|    145|  Dongying|     1|         0|\n",
      "|        491|    337| Mit Ghamr|     1|         0|\n",
      "|        239|    118|    Ciomas|     1|         0|\n",
      "|        387|    315|Lubumbashi|     1|         0|\n",
      "|        534|     24|    Amroha|     0|         1|\n",
      "|         27|    138|     Davao|     1|         0|\n",
      "|        511|    502|    Suihua|     1|         0|\n",
      "|         81|    319| Mahajanga|     1|         0|\n",
      "+-----------+-------+----------+------+----------+\n",
      "only showing top 10 rows\n",
      "\n"
     ]
    }
   ],
   "source": [
    "joined = joined.withColumn('non_active', functions.when(joined['active'] == 1, 0).otherwise(1))\n",
    "joined.select('customer_id', address['city_id'], 'city', 'active', 'non_active').show(10)"
   ]
  },
  {
   "cell_type": "code",
   "execution_count": 24,
   "id": "8404fb0c",
   "metadata": {},
   "outputs": [
    {
     "name": "stdout",
     "output_type": "stream",
     "text": [
      "+------------------+-----------+---------------+\n",
      "|              city|sum(active)|sum(non_active)|\n",
      "+------------------+-----------+---------------+\n",
      "|         Pingxiang|          0|              1|\n",
      "|       Szkesfehrvr|          0|              1|\n",
      "|  Charlotte Amalie|          0|              1|\n",
      "|         Najafabad|          0|              1|\n",
      "|           Wroclaw|          0|              1|\n",
      "|            Ktahya|          0|              1|\n",
      "|            Amroha|          0|              1|\n",
      "|   Southend-on-Sea|          0|              1|\n",
      "|           Bat Yam|          0|              1|\n",
      "|            Kamyin|          0|              1|\n",
      "|          Xiangfan|          0|              1|\n",
      "|            Daxian|          0|              1|\n",
      "|          Uluberia|          0|              1|\n",
      "|     Coatzacoalcos|          0|              1|\n",
      "|        Kumbakonam|          0|              1|\n",
      "|          Fengshan|          1|              0|\n",
      "|A Corua (La Corua)|          1|              0|\n",
      "|           El Alto|          1|              0|\n",
      "|          Myingyan|          1|              0|\n",
      "|              Linz|          1|              0|\n",
      "+------------------+-----------+---------------+\n",
      "only showing top 20 rows\n",
      "\n"
     ]
    }
   ],
   "source": [
    "df = joined.groupBy('city').sum('active', 'non_active')\n",
    "df.orderBy('sum(non_active)', ascending = False).show()"
   ]
  },
  {
   "cell_type": "markdown",
   "id": "15afab92",
   "metadata": {},
   "source": [
    "<div class=\"alert alert-block alert-info\">\n",
    "<b>&#9658</b> #Q7 Вывести категорию фильмов, у которой самое большое кол-во часов суммарной аренды в городах (customer.address_id в этом city), и которые начинаются на букву “a”. Тоже самое сделать для городов в которых есть символ “-”.</div>"
   ]
  },
  {
   "cell_type": "code",
   "execution_count": 25,
   "id": "e9af0a04",
   "metadata": {},
   "outputs": [
    {
     "name": "stdout",
     "output_type": "stream",
     "text": [
      "+-------+-----------+---------+------------+---------+-----------+-------------------+-------------------+-------------+\n",
      "|film_id|category_id|     name|inventory_id|rental_id|customer_id|        rental_date|        return_date|duration_days|\n",
      "+-------+-----------+---------+------------+---------+-----------+-------------------+-------------------+-------------+\n",
      "|    697|          1|   Action|        3175|    14173|        152|2022-08-21 05:01:01|2022-08-22 04:40:01|            1|\n",
      "|    697|          1|   Action|        3175|     7933|        297|2022-07-28 14:27:27|2022-07-29 12:34:27|            1|\n",
      "|    583|          2|Animation|        2659|    13714|        277|2022-08-20 11:41:09|2022-08-22 08:28:09|            2|\n",
      "|    583|          2|Animation|        2659|     9176|        260|2022-07-30 13:50:54|2022-08-02 16:25:54|            3|\n",
      "|    583|          2|Animation|        2659|     6235|        379|2022-07-11 16:17:51|2022-07-17 13:14:51|            6|\n",
      "+-------+-----------+---------+------------+---------+-----------+-------------------+-------------------+-------------+\n",
      "only showing top 5 rows\n",
      "\n"
     ]
    }
   ],
   "source": [
    "joined = film.join(film_category, film['film_id'] == film_category['film_id'])\\\n",
    ".join(category, film_category['category_id'] == category['category_id']).\\\n",
    "select(film['film_id'], film_category['category_id'], category['name'])\n",
    "\n",
    "df = joined.join(inventory, joined['film_id'] == inventory['film_id'])\\\n",
    ".join(rental, inventory['inventory_id'] == rental['inventory_id']).\\\n",
    "select(joined['film_id'], joined['category_id'], joined['name'], inventory['inventory_id']\\\n",
    ", 'rental_id', 'customer_id', 'rental_date', 'return_date')\n",
    "\n",
    "df = df.withColumn('duration_days', functions.datediff(df['return_date'], df['rental_date']))\n",
    "df.show(5)"
   ]
  },
  {
   "cell_type": "code",
   "execution_count": 26,
   "id": "9e35abdb",
   "metadata": {},
   "outputs": [
    {
     "name": "stdout",
     "output_type": "stream",
     "text": [
      "+--------------------+-----------+------------------+----+\n",
      "|                city|       name|sum(duration_days)|rank|\n",
      "+--------------------+-----------+------------------+----+\n",
      "|  A Corua (La Corua)|     Comedy|                24|   1|\n",
      "|                Abha|     Sci-Fi|                23|   1|\n",
      "|           Abu Dhabi|     Sci-Fi|                21|   1|\n",
      "|                Acua|      Drama|                23|   1|\n",
      "|               Adana|     Comedy|                22|   1|\n",
      "|         Addis Abeba|     Family|                21|   1|\n",
      "|                Aden|        New|                33|   1|\n",
      "|               Adoni|   Children|                17|   1|\n",
      "|          Ahmadnagar|   Children|                25|   1|\n",
      "|            Akishima|   Children|                26|   1|\n",
      "|               Akron|     Sports|                22|   1|\n",
      "|               Akron|     Horror|                22|   1|\n",
      "|         Alessandria|     Comedy|                15|   1|\n",
      "|Allappuzha (Allep...|        New|                23|   1|\n",
      "|             Allende|     Travel|                27|   1|\n",
      "|     Almirante Brown|     Sports|                24|   1|\n",
      "|            Alvorada|     Sci-Fi|                19|   1|\n",
      "|            Ambattur|      Games|                21|   1|\n",
      "|          Amersfoort|     Sports|                24|   1|\n",
      "|              Amroha|      Music|                22|   1|\n",
      "|      Angra dos Reis|     Family|                22|   1|\n",
      "|             Anpolis|     Sports|                26|   1|\n",
      "|         Antofagasta|   Classics|                22|   1|\n",
      "| Aparecida de Goinia|     Travel|                33|   1|\n",
      "|           Apeldoorn|     Sports|                32|   1|\n",
      "|            Araatuba|     Family|                19|   1|\n",
      "|                Arak|   Children|                23|   1|\n",
      "|             Arecibo|        New|                28|   1|\n",
      "|           Arlington|    Foreign|                25|   1|\n",
      "|              Ashdod|     Sci-Fi|                29|   1|\n",
      "|            Ashgabat|     Family|                27|   1|\n",
      "|            Ashqelon|   Classics|                22|   1|\n",
      "|             Asuncin|     Sci-Fi|                15|   1|\n",
      "|             Athenai|     Action|                26|   1|\n",
      "|              Atinsk|     Travel|                29|   1|\n",
      "|             Atlixco|  Animation|                21|   1|\n",
      "|Augusta-Richmond ...|    Foreign|                22|   1|\n",
      "|              Aurora|Documentary|                29|   1|\n",
      "|              Aurora|   Children|                29|   1|\n",
      "|          Avellaneda|     Action|                45|   1|\n",
      "|         Beni-Mellal|    Foreign|                22|   1|\n",
      "|Donostia-San Seba...|     Sports|                32|   1|\n",
      "|        Effon-Alaiye|      Drama|                29|   1|\n",
      "|       Hubli-Dharwad|     Action|                12|   1|\n",
      "|    Jalib al-Shuyukh|   Classics|                26|   1|\n",
      "|     Jastrzebie-Zdrj|      Music|                20|   1|\n",
      "|     Jastrzebie-Zdrj|  Animation|                20|   1|\n",
      "| Kamjanets-Podilskyi|   Children|                30|   1|\n",
      "|      Kirovo-Tepetsk|Documentary|                24|   1|\n",
      "|           Lapu-Lapu|     Comedy|                38|   1|\n",
      "|          Mwene-Ditu|     Travel|                24|   1|\n",
      "|         Naala-Porto|    Foreign|                20|   1|\n",
      "|         Saint-Denis|     Sci-Fi|                35|   1|\n",
      "|        Shahr-e Kord|    Foreign|                20|   1|\n",
      "|    Shubra al-Khayma|     Sci-Fi|                28|   1|\n",
      "|     Southend-on-Sea|     Sports|                21|   1|\n",
      "|      Tel Aviv-Jaffa|    Foreign|                23|   1|\n",
      "|   Usolje-Sibirskoje|   Classics|                19|   1|\n",
      "|   Uttarpara-Kotrung|   Children|                20|   1|\n",
      "|              al-Ayn|     Sports|                19|   1|\n",
      "|           al-Hawiya|     Sports|                15|   1|\n",
      "|           al-Manama|     Action|                27|   1|\n",
      "|          al-Qadarif|      Music|                16|   1|\n",
      "|            al-Qatif|     Sci-Fi|                25|   1|\n",
      "|     s-Hertogenbosch|      Drama|                19|   1|\n",
      "+--------------------+-----------+------------------+----+\n",
      "\n"
     ]
    }
   ],
   "source": [
    "df_final = df.join(customer, df['customer_id'] == customer['customer_id']).\\\n",
    "join(address, customer['address_id'] == address['address_id']).\\\n",
    "join(city, address['city_id'] == city['city_id']).\\\n",
    "select('film_id', customer['store_id'], 'name', 'duration_days', customer['address_id'], df['customer_id'], city['city_id'], city['city'])\n",
    "\n",
    "window = Window.partitionBy('city').orderBy(functions.desc('sum(duration_days)'))\n",
    "df_final = df_final.groupBy('city', 'name').sum('duration_days')\n",
    "df_final = df_final.withColumn('rank', functions.dense_rank().over(window))\n",
    "df_final.where((df_final['rank'] == 1) & ((col('city').like('A%')) | (col('city').like('%-%')))).show(df_final.count())"
   ]
  },
  {
   "cell_type": "code",
   "execution_count": null,
   "id": "30581888",
   "metadata": {},
   "outputs": [],
   "source": []
  }
 ],
 "metadata": {
  "kernelspec": {
   "display_name": "Python 3 (ipykernel)",
   "language": "python",
   "name": "python3"
  },
  "language_info": {
   "codemirror_mode": {
    "name": "ipython",
    "version": 3
   },
   "file_extension": ".py",
   "mimetype": "text/x-python",
   "name": "python",
   "nbconvert_exporter": "python",
   "pygments_lexer": "ipython3",
   "version": "3.10.4"
  }
 },
 "nbformat": 4,
 "nbformat_minor": 5
}
