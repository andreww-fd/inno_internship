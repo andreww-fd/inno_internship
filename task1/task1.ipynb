{
 "cells": [
  {
   "cell_type": "code",
   "execution_count": 1,
   "id": "8679faa5",
   "metadata": {},
   "outputs": [],
   "source": [
    "#Import libraries\n",
    "import json\n",
    "import pymysql"
   ]
  },
  {
   "cell_type": "code",
   "execution_count": 2,
   "id": "d542c863",
   "metadata": {},
   "outputs": [],
   "source": [
    "#Reading json files\n",
    "rooms = open('datasets/rooms.json')\n",
    "json_file_rooms = json.load(rooms)"
   ]
  },
  {
   "cell_type": "code",
   "execution_count": 3,
   "id": "45bc20d4",
   "metadata": {},
   "outputs": [],
   "source": [
    "students = open('datasets/students.json')\n",
    "json_file_students = json.load(students)"
   ]
  },
  {
   "cell_type": "code",
   "execution_count": 4,
   "id": "5450adf6",
   "metadata": {},
   "outputs": [],
   "source": [
    "#Creating connection to DB\n",
    "con = pymysql.connect(host = 'localhost',user = 'user_1',passwd = 'password_1',db = 'testdb')\n",
    "cursor = con.cursor()"
   ]
  },
  {
   "cell_type": "code",
   "execution_count": 11,
   "id": "771899bb",
   "metadata": {},
   "outputs": [],
   "source": [
    "#Function to create \"rooms\" table\n",
    "def create_table_rooms(cursor):\n",
    "    create_table_query = (\"\"\" CREATE TABLE IF NOT EXISTS rooms (\n",
    "                            room_id INTEGER PRIMARY KEY,\n",
    "                            room_name VARCHAR(40) NOT NULL\n",
    "                            )\n",
    "                        \"\"\")\n",
    "    cursor.execute(create_table_query)\n",
    "    \n",
    "\n",
    "create_table_rooms(cursor)\n",
    "con.commit()"
   ]
  },
  {
   "cell_type": "code",
   "execution_count": 6,
   "id": "ecd5a5b8",
   "metadata": {},
   "outputs": [],
   "source": [
    "#Function to create \"students\" table\n",
    "def create_table_students(cursor):\n",
    "    cursor.execute(f'DROP TABLE IF EXISTS students')\n",
    "    create_table_query = (\"\"\" CREATE TABLE students (\n",
    "                            room_id INTEGER,\n",
    "                            birthday DATE NOT NULL,\n",
    "                            sex VARCHAR(5) NOT NULL,\n",
    "                            name VARCHAR(120) NOT NULL,\n",
    "                            id INTEGER NOT NULL,\n",
    "                            FOREIGN KEY (room_id) REFERENCES rooms (room_id)\n",
    "                            )\n",
    "                        \"\"\")\n",
    "    cursor.execute(create_table_query)\n",
    "    \n",
    "\n",
    "create_table_students(cursor)\n",
    "con.commit()"
   ]
  },
  {
   "cell_type": "code",
   "execution_count": 7,
   "id": "9586df79",
   "metadata": {},
   "outputs": [],
   "source": [
    "#Function to extract values from json file and insert them into \"rooms\" table\n",
    "def insert_values_rooms(table_name, file):\n",
    "    for i in range(len(file)):\n",
    "        room_id = file[i].get('id', None)\n",
    "        name = file[i].get('name', None)\n",
    "        cursor.execute(f\"INSERT INTO {table_name} VALUES (%s,%s)\", (room_id, name))\n",
    "    con.commit()\n",
    "    return 'Completed'"
   ]
  },
  {
   "cell_type": "code",
   "execution_count": 8,
   "id": "f3fd53fb",
   "metadata": {},
   "outputs": [
    {
     "data": {
      "text/plain": [
       "'Completed'"
      ]
     },
     "execution_count": 8,
     "metadata": {},
     "output_type": "execute_result"
    }
   ],
   "source": [
    "insert_values_rooms('rooms', json_file_rooms)"
   ]
  },
  {
   "cell_type": "code",
   "execution_count": 9,
   "id": "fe9c7b41",
   "metadata": {},
   "outputs": [],
   "source": [
    "#Function to extract values from json file and insert them into \"student\" table\n",
    "def insert_values_students(table_name, file):\n",
    "    for i in range(len(file)):\n",
    "        birthday = file[i].get('birthday', None)\n",
    "        student_id = file[i].get('id', None)\n",
    "        name = file[i].get('name', None)\n",
    "        room_id = file[i].get('room', None)\n",
    "        sex = file[i].get('sex', None)\n",
    "        cursor.execute(f\"INSERT INTO {table_name} VALUES (%s,%s,%s,%s,%s)\", (room_id, birthday, sex, name, student_id))\n",
    "    con.commit()\n",
    "    return 'Completed'"
   ]
  },
  {
   "cell_type": "code",
   "execution_count": 10,
   "id": "e657cae4",
   "metadata": {},
   "outputs": [
    {
     "data": {
      "text/plain": [
       "'Completed'"
      ]
     },
     "execution_count": 10,
     "metadata": {},
     "output_type": "execute_result"
    }
   ],
   "source": [
    "insert_values_students('students', json_file_students)"
   ]
  }
 ],
 "metadata": {
  "kernelspec": {
   "display_name": "Python 3 (ipykernel)",
   "language": "python",
   "name": "python3"
  },
  "language_info": {
   "codemirror_mode": {
    "name": "ipython",
    "version": 3
   },
   "file_extension": ".py",
   "mimetype": "text/x-python",
   "name": "python",
   "nbconvert_exporter": "python",
   "pygments_lexer": "ipython3",
   "version": "3.10.4"
  }
 },
 "nbformat": 4,
 "nbformat_minor": 5
}
